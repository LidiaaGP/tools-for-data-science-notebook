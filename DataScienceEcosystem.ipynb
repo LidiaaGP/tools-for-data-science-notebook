{
  "metadata": {
    "kernelspec": {
      "name": "python",
      "display_name": "Python (Pyodide)",
      "language": "python"
    },
    "language_info": {
      "codemirror_mode": {
        "name": "python",
        "version": 3
      },
      "file_extension": ".py",
      "mimetype": "text/x-python",
      "name": "python",
      "nbconvert_exporter": "python",
      "pygments_lexer": "ipython3",
      "version": "3.8"
    }
  },
  "nbformat_minor": 5,
  "nbformat": 4,
  "cells": [
    {
      "id": "fe6af7ee-f290-4c38-b4a5-9a0dea750bd2",
      "cell_type": "markdown",
      "source": "# Data Science Tools and Ecosystem",
      "metadata": {}
    },
    {
      "id": "23aa0097-2ef5-44e7-b95f-8aab87244885",
      "cell_type": "markdown",
      "source": "## In this notebook, Data Science Tools and Ecosystem are summarized.",
      "metadata": {}
    },
    {
      "id": "e3f80a67-6e91-48a1-b03c-fcae7301100e",
      "cell_type": "markdown",
      "source": "Some of the popular languages that Data Scientists use are:\n1. Python\n2. R\n3. SQL",
      "metadata": {}
    },
    {
      "id": "1d8c691b-deb9-45fe-ac59-9ebcbd97280a",
      "cell_type": "markdown",
      "source": "Some of the commonly used libraries used by Data Scientists include:\n1. Matplotlib\n2. Scikit-learn\n3. Numpy",
      "metadata": {}
    },
    {
      "id": "2cee8009-d7de-4f65-a565-326617f1af47",
      "cell_type": "markdown",
      "source": "| Data Science Tools |\n| ------------------ |\n| Jupyter Notebook |\n| RStudio |\n| VS Code |",
      "metadata": {}
    },
    {
      "id": "c0fb832a-7198-4328-82c9-c24375c6404f",
      "cell_type": "markdown",
      "source": "### Below are a few examples of evaluating arithmetic expressions in Python.\n\n",
      "metadata": {}
    },
    {
      "id": "5e74b870-84b5-4502-abf5-d20aa5d0471d",
      "cell_type": "code",
      "source": "# This a simple arithmetic expression to mutiply then add integers\n(3*4)+5",
      "metadata": {
        "trusted": true
      },
      "outputs": [
        {
          "execution_count": 5,
          "output_type": "execute_result",
          "data": {
            "text/plain": "17"
          },
          "metadata": {}
        }
      ],
      "execution_count": 5
    },
    {
      "id": "fb4447af-8d8f-4b45-a841-26816b74e56c",
      "cell_type": "code",
      "source": "# This will convert 200 minutes to hours by diving by 60\n200/60",
      "metadata": {
        "trusted": true
      },
      "outputs": [
        {
          "execution_count": 9,
          "output_type": "execute_result",
          "data": {
            "text/plain": "3.3333333333333335"
          },
          "metadata": {}
        }
      ],
      "execution_count": 9
    },
    {
      "id": "47d8db3f-3dd9-48df-b183-36c84cc087e1",
      "cell_type": "markdown",
      "source": "**Objectives:**\n- List popular languages for Data Science\n- Create and format Markdown cells\n- Convert units using Python code\n- Create tables using Markdown\n- Identify commonly used tools and libraries in Data Science",
      "metadata": {}
    },
    {
      "id": "ef559e47-c4e6-4f7b-a03a-694d691b7307",
      "cell_type": "markdown",
      "source": "## Author\nLidia",
      "metadata": {}
    }
  ]
}